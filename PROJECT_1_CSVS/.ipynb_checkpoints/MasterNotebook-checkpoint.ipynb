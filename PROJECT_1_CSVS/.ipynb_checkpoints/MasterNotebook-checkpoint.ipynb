{
 "cells": [
  {
   "cell_type": "code",
   "execution_count": 2,
   "metadata": {},
   "outputs": [
    {
     "ename": "ModuleNotFoundError",
     "evalue": "No module named 'panel'",
     "output_type": "error",
     "traceback": [
      "\u001b[1;31m---------------------------------------------------------------------------\u001b[0m",
      "\u001b[1;31mModuleNotFoundError\u001b[0m                       Traceback (most recent call last)",
      "\u001b[1;32m<ipython-input-2-b437a89f3cf6>\u001b[0m in \u001b[0;36m<module>\u001b[1;34m\u001b[0m\n\u001b[0;32m      6\u001b[0m \u001b[1;32mfrom\u001b[0m \u001b[0mdatetime\u001b[0m \u001b[1;32mimport\u001b[0m \u001b[0mdatetime\u001b[0m\u001b[1;33m,\u001b[0m \u001b[0mtimedelta\u001b[0m\u001b[1;33m\u001b[0m\u001b[1;33m\u001b[0m\u001b[0m\n\u001b[0;32m      7\u001b[0m \u001b[1;32mimport\u001b[0m \u001b[0mmatplotlib\u001b[0m\u001b[1;33m.\u001b[0m\u001b[0mpyplot\u001b[0m \u001b[1;32mas\u001b[0m \u001b[0mplt\u001b[0m\u001b[1;33m\u001b[0m\u001b[1;33m\u001b[0m\u001b[0m\n\u001b[1;32m----> 8\u001b[1;33m \u001b[1;32mimport\u001b[0m \u001b[0mpanel\u001b[0m \u001b[1;32mas\u001b[0m \u001b[0mpn\u001b[0m\u001b[1;33m\u001b[0m\u001b[1;33m\u001b[0m\u001b[0m\n\u001b[0m\u001b[0;32m      9\u001b[0m \u001b[1;32mfrom\u001b[0m \u001b[0mpanel\u001b[0m\u001b[1;33m.\u001b[0m\u001b[0minteract\u001b[0m \u001b[1;32mimport\u001b[0m \u001b[0minteract\u001b[0m\u001b[1;33m\u001b[0m\u001b[1;33m\u001b[0m\u001b[0m\n\u001b[0;32m     10\u001b[0m \u001b[1;32mfrom\u001b[0m \u001b[0mpanel\u001b[0m \u001b[1;32mimport\u001b[0m \u001b[0mwidgets\u001b[0m\u001b[1;33m\u001b[0m\u001b[1;33m\u001b[0m\u001b[0m\n",
      "\u001b[1;31mModuleNotFoundError\u001b[0m: No module named 'panel'"
     ]
    }
   ],
   "source": [
    "# Import libraries and dependencies\n",
    "import numpy as np\n",
    "import os\n",
    "import pandas as pd\n",
    "import requests\n",
    "from datetime import datetime, timedelta\n",
    "import matplotlib.pyplot as plt\n",
    "import panel as pn\n",
    "from panel.interact import interact\n",
    "from panel import widgets\n",
    "import plotly.express as px\n",
    "from pathlib import Path\n",
    "from dotenv import load_dotenv\n",
    "%matplotlib inline\n",
    "pn.extension('plotly')\n",
    "import hvplot.pandas"
   ]
  },
  {
   "cell_type": "code",
   "execution_count": 3,
   "metadata": {},
   "outputs": [
    {
     "ename": "NameError",
     "evalue": "name 'Path' is not defined",
     "output_type": "error",
     "traceback": [
      "\u001b[1;31m---------------------------------------------------------------------------\u001b[0m",
      "\u001b[1;31mNameError\u001b[0m                                 Traceback (most recent call last)",
      "\u001b[1;32m<ipython-input-3-07d9805818bc>\u001b[0m in \u001b[0;36m<module>\u001b[1;34m\u001b[0m\n\u001b[0;32m      1\u001b[0m \u001b[1;31m#Reading in CSV files\u001b[0m\u001b[1;33m\u001b[0m\u001b[1;33m\u001b[0m\u001b[1;33m\u001b[0m\u001b[0m\n\u001b[1;32m----> 2\u001b[1;33m \u001b[0mBXP_REC1_data\u001b[0m \u001b[1;33m=\u001b[0m \u001b[0mPath\u001b[0m\u001b[1;33m(\u001b[0m\u001b[1;34m\"BXP2000.csv\"\u001b[0m\u001b[1;33m)\u001b[0m\u001b[1;33m\u001b[0m\u001b[1;33m\u001b[0m\u001b[0m\n\u001b[0m\u001b[0;32m      3\u001b[0m \u001b[0mBXP_REC2_data\u001b[0m \u001b[1;33m=\u001b[0m \u001b[0mPath\u001b[0m\u001b[1;33m(\u001b[0m\u001b[1;34m\"BXP2007.csv\"\u001b[0m\u001b[1;33m)\u001b[0m\u001b[1;33m\u001b[0m\u001b[1;33m\u001b[0m\u001b[0m\n\u001b[0;32m      4\u001b[0m \u001b[0mGC_REC1_data\u001b[0m \u001b[1;33m=\u001b[0m \u001b[0mPath\u001b[0m\u001b[1;33m(\u001b[0m\u001b[1;34m\"GC_2000.csv\"\u001b[0m\u001b[1;33m)\u001b[0m\u001b[1;33m\u001b[0m\u001b[1;33m\u001b[0m\u001b[0m\n\u001b[0;32m      5\u001b[0m \u001b[0mGC_REC2_data\u001b[0m \u001b[1;33m=\u001b[0m \u001b[0mPath\u001b[0m\u001b[1;33m(\u001b[0m\u001b[1;34m\"GC_2007.csv\"\u001b[0m\u001b[1;33m)\u001b[0m\u001b[1;33m\u001b[0m\u001b[1;33m\u001b[0m\u001b[0m\n",
      "\u001b[1;31mNameError\u001b[0m: name 'Path' is not defined"
     ]
    }
   ],
   "source": [
    "#Reading in CSV files\n",
    "BXP_REC1_data = Path(\"BXP2000.csv\")\n",
    "BXP_REC2_data = Path(\"BXP2007.csv\")\n",
    "GC_REC1_data = Path(\"GC_2000.csv\")\n",
    "GC_REC2_data = Path(\"GC_2007.csv\")\n",
    "HP_REC1_data = Path(\"hp_2000.csv\")\n",
    "HP_REC2_data = Path(\"hp_2007.csv\")\n",
    "PLD_REC1_data = Path(\"PLD_2000.csv\")\n",
    "PLD_REC2_data = Path(\"PLD_2007.csv\")\n",
    "WELL_REC1_data = Path(\"WELL_2000.csv\")\n",
    "WELL_REC2_data = Path(\"WELL_2007.csv\")\n",
    "\n",
    "\n",
    "BXPR1_df = pd.read_csv(BXP_REC1_data, index_col=\"Date\", infer_datetime_format=True, parse_dates=True)\n",
    "BXPR2_df = pd.read_csv(BXP_REC2_data, index_col=\"Date\", infer_datetime_format=True, parse_dates=True)\n",
    "GCR1_df = pd.read_csv(GC_REC1_data, index_col=\"Date\", infer_datetime_format=True, parse_dates=True)\n",
    "GCR2_df = pd.read_csv(GC_REC2_data, index_col=\"Date\", infer_datetime_format=True, parse_dates=True)\n",
    "HPR1_df = pd.read_csv(HP_REC1_data, index_col=\"date\", infer_datetime_format=True, parse_dates=True)\n",
    "HPR2_df = pd.read_csv(HP_REC2_data, index_col=\"date\", infer_datetime_format=True, parse_dates=True)\n",
    "PLDR1_df = pd.read_csv(PLD_REC1_data, index_col=\"Date\", infer_datetime_format=True, parse_dates=True)\n",
    "PLDR2_df = pd.read_csv(PLD_REC2_data, index_col=\"Date\", infer_datetime_format=True, parse_dates=True)\n",
    "WELLR1_df = pd.read_csv(WELL_REC1_data, index_col=\"Date\", infer_datetime_format=True, parse_dates=True)\n",
    "WELLR2_df = pd.read_csv(WELL_REC2_data, index_col=\"Date\", infer_datetime_format=True, parse_dates=True)\n"
   ]
  },
  {
   "cell_type": "code",
   "execution_count": null,
   "metadata": {},
   "outputs": [],
   "source": [
    "# API Data Pull\n",
    "\n",
    "## Requests URLs\n",
    "sp500_url = \"https://www.quandl.com/api/v3/datasets/MULTPL/SP500_INFLADJ_MONTH.json?api_key=ACX1MxGcHSzdXsTV8JPU&start_date=1990-01-01&end_date=2014-03-01\"\n",
    "gold_url = \"https://www.quandl.com/api/v3/datasets/LBMA/GOLD.json?api_key=ACX1MxGcHSzdXsTV8JPU&collapse=monthly&start_date=1990-01-01&end_date=2014-03-01&column_index=Date&column_index=USD (PM)\"\n",
    "bond_url = \"https://www.quandl.com/api/v3/datasets/FRED/THREEFYTP10.json?api_key=ACX1MxGcHSzdXsTV8JPU&collapse=monthly&start_date=1990-01-01&end_date=2014-03-01\"\n",
    "\n",
    "## Convert to DataFrames\n",
    "sp500_data = pd.DataFrame(requests.get(sp500_url).json()[\"dataset\"][\"data\"])\n",
    "sp500_data.columns = [\"Date\", \"S&P 500 Prices\"]\n",
    "gold_data = pd.DataFrame(requests.get(gold_url).json()[\"dataset\"][\"data\"])\n",
    "gold_data.columns = [\"Date\", \"Gold Prices\"]\n",
    "bond_data = pd.DataFrame(requests.get(bond_url).json()[\"dataset\"][\"data\"])\n",
    "bond_data.columns = [\"Date\", \"10 yr Treasury Rate\"]\n",
    "\n",
    "## Set Indexes as Dates\n",
    "sp500_data.set_index(\"Date\", inplace=True)\n",
    "sp500_data.sort_index(inplace=True)\n",
    "gold_data.set_index(\"Date\", inplace=True)\n",
    "gold_data.sort_index(inplace=True)\n",
    "bond_data.set_index(\"Date\", inplace=True)\n",
    "bond_data.sort_index(inplace=True)\n",
    "\n",
    "## Convert Indexes to Datetime Format\n",
    "sp500_data.index = pd.to_datetime(sp500_data.index)\n",
    "gold_data.index = pd.to_datetime(gold_data.index)\n",
    "bond_data.index = pd.to_datetime(bond_data.index)\n",
    "\n",
    "## Split Data for Analysis\n",
    "sp500_2000 = sp500_data.loc[\"2000-08-01\":\"2007-08-01\"]\n",
    "sp500_2007 = sp500_data.loc[\"2007-03-01\":\"2014-03-01\"]\n",
    "gold_2000 = gold_data.loc[\"2000-08-01\":\"2007-08-01\"]\n",
    "gold_2007 = gold_data.loc[\"2007-03-01\":\"2014-03-01\"]\n",
    "bond_2000 = bond_data.loc[\"2000-08-01\":\"2007-08-01\"]\n",
    "bond_2007 = bond_data.loc[\"2007-03-01\":\"2014-03-01\"]"
   ]
  }
 ],
 "metadata": {
  "kernelspec": {
   "display_name": "Python [conda env:dogs]",
   "language": "python",
   "name": "conda-env-dogs-py"
  },
  "language_info": {
   "codemirror_mode": {
    "name": "ipython",
    "version": 3
   },
   "file_extension": ".py",
   "mimetype": "text/x-python",
   "name": "python",
   "nbconvert_exporter": "python",
   "pygments_lexer": "ipython3",
   "version": "3.7.7"
  }
 },
 "nbformat": 4,
 "nbformat_minor": 4
}
